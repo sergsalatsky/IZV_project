{
 "metadata": {
  "language_info": {
   "codemirror_mode": {
    "name": "ipython",
    "version": 3
   },
   "file_extension": ".py",
   "mimetype": "text/x-python",
   "name": "python",
   "nbconvert_exporter": "python",
   "pygments_lexer": "ipython3",
   "version": "3.9.0-final"
  },
  "orig_nbformat": 2,
  "kernelspec": {
   "name": "python3",
   "display_name": "Python 3.9.0 64-bit",
   "metadata": {
    "interpreter": {
     "hash": "f9f85f796d01129d0dd105a088854619f454435301f6ffec2fea96ecbd9be4ac"
    }
   }
  }
 },
 "nbformat": 4,
 "nbformat_minor": 2,
 "cells": [
  {
   "source": [
    "# Odhad závislosti mezi proměnnými pomocí $\\chi^2$ testu\n",
    "### V tomto příkladu zkusíme ověřit s 95% jistotou následující hypotézu:<br>\n",
    "<p><em>Pokud viník nehody byl pod silným vlivem alkoholu, došlo častěji k těžkým zdravotním následkům.</em></p>"
   ],
   "cell_type": "markdown",
   "metadata": {}
  },
  {
   "source": [
    "## Požadované prerekvizity z přednášek\n",
    "### Teorie\n",
    " * Kontingenční tabulka\n",
    " * Chi-kvadrát test\n",
    " \n",
    "### Python\n",
    " * Manipulace s daty dat (pandas)\n",
    " * Analýza statistik (scipy)"
   ],
   "cell_type": "markdown",
   "metadata": {}
  },
  {
   "source": [
    "Na začátku stáhneme dataset"
   ],
   "cell_type": "markdown",
   "metadata": {}
  },
  {
   "cell_type": "code",
   "execution_count": 9,
   "metadata": {},
   "outputs": [
    {
     "output_type": "execute_result",
     "data": {
      "text/plain": [
       "             p1 p36 p37         p2a weekday(p2a)   p2b p6  p7  p8  p9  ...  l  \\\n",
       "0  002100160001   4      2016-01-01            5  0055  1   1   0   2  ...      \n",
       "1  002100160002   4      2016-01-01            5  0130  1   3   0   2  ...      \n",
       "2  002100160003   5      2016-01-01            5  0100  1   2   0   2  ...      \n",
       "3  002100160004   6      2016-01-01            5  0120  9   0   0   2  ...      \n",
       "4  002100160005   6      2016-01-01            5  2560  2   0   0   2  ...      \n",
       "\n",
       "        n  o                       p       q       r       s  \\\n",
       "0  711403     Souhlasnýsesměremúseku  Pomalý  554782  451622   \n",
       "1                                                              \n",
       "2                                                              \n",
       "3                                                              \n",
       "4                                                              \n",
       "\n",
       "                    t  p5a  region  \n",
       "0  GN_V0.1UIR-ADR_410    1     PHA  \n",
       "1                        1     PHA  \n",
       "2                        1     PHA  \n",
       "3                        1     PHA  \n",
       "4                        1     PHA  \n",
       "\n",
       "[5 rows x 65 columns]"
      ],
      "text/html": "<div>\n<style scoped>\n    .dataframe tbody tr th:only-of-type {\n        vertical-align: middle;\n    }\n\n    .dataframe tbody tr th {\n        vertical-align: top;\n    }\n\n    .dataframe thead th {\n        text-align: right;\n    }\n</style>\n<table border=\"1\" class=\"dataframe\">\n  <thead>\n    <tr style=\"text-align: right;\">\n      <th></th>\n      <th>p1</th>\n      <th>p36</th>\n      <th>p37</th>\n      <th>p2a</th>\n      <th>weekday(p2a)</th>\n      <th>p2b</th>\n      <th>p6</th>\n      <th>p7</th>\n      <th>p8</th>\n      <th>p9</th>\n      <th>...</th>\n      <th>l</th>\n      <th>n</th>\n      <th>o</th>\n      <th>p</th>\n      <th>q</th>\n      <th>r</th>\n      <th>s</th>\n      <th>t</th>\n      <th>p5a</th>\n      <th>region</th>\n    </tr>\n  </thead>\n  <tbody>\n    <tr>\n      <th>0</th>\n      <td>002100160001</td>\n      <td>4</td>\n      <td></td>\n      <td>2016-01-01</td>\n      <td>5</td>\n      <td>0055</td>\n      <td>1</td>\n      <td>1</td>\n      <td>0</td>\n      <td>2</td>\n      <td>...</td>\n      <td></td>\n      <td>711403</td>\n      <td></td>\n      <td>Souhlasnýsesměremúseku</td>\n      <td>Pomalý</td>\n      <td>554782</td>\n      <td>451622</td>\n      <td>GN_V0.1UIR-ADR_410</td>\n      <td>1</td>\n      <td>PHA</td>\n    </tr>\n    <tr>\n      <th>1</th>\n      <td>002100160002</td>\n      <td>4</td>\n      <td></td>\n      <td>2016-01-01</td>\n      <td>5</td>\n      <td>0130</td>\n      <td>1</td>\n      <td>3</td>\n      <td>0</td>\n      <td>2</td>\n      <td>...</td>\n      <td></td>\n      <td></td>\n      <td></td>\n      <td></td>\n      <td></td>\n      <td></td>\n      <td></td>\n      <td></td>\n      <td>1</td>\n      <td>PHA</td>\n    </tr>\n    <tr>\n      <th>2</th>\n      <td>002100160003</td>\n      <td>5</td>\n      <td></td>\n      <td>2016-01-01</td>\n      <td>5</td>\n      <td>0100</td>\n      <td>1</td>\n      <td>2</td>\n      <td>0</td>\n      <td>2</td>\n      <td>...</td>\n      <td></td>\n      <td></td>\n      <td></td>\n      <td></td>\n      <td></td>\n      <td></td>\n      <td></td>\n      <td></td>\n      <td>1</td>\n      <td>PHA</td>\n    </tr>\n    <tr>\n      <th>3</th>\n      <td>002100160004</td>\n      <td>6</td>\n      <td></td>\n      <td>2016-01-01</td>\n      <td>5</td>\n      <td>0120</td>\n      <td>9</td>\n      <td>0</td>\n      <td>0</td>\n      <td>2</td>\n      <td>...</td>\n      <td></td>\n      <td></td>\n      <td></td>\n      <td></td>\n      <td></td>\n      <td></td>\n      <td></td>\n      <td></td>\n      <td>1</td>\n      <td>PHA</td>\n    </tr>\n    <tr>\n      <th>4</th>\n      <td>002100160005</td>\n      <td>6</td>\n      <td></td>\n      <td>2016-01-01</td>\n      <td>5</td>\n      <td>2560</td>\n      <td>2</td>\n      <td>0</td>\n      <td>0</td>\n      <td>2</td>\n      <td>...</td>\n      <td></td>\n      <td></td>\n      <td></td>\n      <td></td>\n      <td></td>\n      <td></td>\n      <td></td>\n      <td></td>\n      <td>1</td>\n      <td>PHA</td>\n    </tr>\n  </tbody>\n</table>\n<p>5 rows × 65 columns</p>\n</div>"
     },
     "metadata": {},
     "execution_count": 9
    }
   ],
   "source": [
    "import pandas as pd\n",
    "\n",
    "df = pd.read_pickle(\"accidents.pkl.gz\")\n",
    "df.head()"
   ]
  },
  {
   "source": [
    "Potom vyloučíme data, které nejsou potřebné pro řešení dané úlohy"
   ],
   "cell_type": "markdown",
   "metadata": {}
  },
  {
   "cell_type": "code",
   "execution_count": 10,
   "metadata": {},
   "outputs": [
    {
     "output_type": "execute_result",
     "data": {
      "text/plain": [
       "        p11  p13a  p13b\n",
       "0         2     0     0\n",
       "1         2     0     0\n",
       "2         2     0     0\n",
       "3         9     0     0\n",
       "4         0     0     0\n",
       "...     ...   ...   ...\n",
       "487156    0     0     0\n",
       "487157    2     0     0\n",
       "487158    0     0     0\n",
       "487159    2     0     0\n",
       "487160    0     0     0\n",
       "\n",
       "[485683 rows x 3 columns]"
      ],
      "text/html": "<div>\n<style scoped>\n    .dataframe tbody tr th:only-of-type {\n        vertical-align: middle;\n    }\n\n    .dataframe tbody tr th {\n        vertical-align: top;\n    }\n\n    .dataframe thead th {\n        text-align: right;\n    }\n</style>\n<table border=\"1\" class=\"dataframe\">\n  <thead>\n    <tr style=\"text-align: right;\">\n      <th></th>\n      <th>p11</th>\n      <th>p13a</th>\n      <th>p13b</th>\n    </tr>\n  </thead>\n  <tbody>\n    <tr>\n      <th>0</th>\n      <td>2</td>\n      <td>0</td>\n      <td>0</td>\n    </tr>\n    <tr>\n      <th>1</th>\n      <td>2</td>\n      <td>0</td>\n      <td>0</td>\n    </tr>\n    <tr>\n      <th>2</th>\n      <td>2</td>\n      <td>0</td>\n      <td>0</td>\n    </tr>\n    <tr>\n      <th>3</th>\n      <td>9</td>\n      <td>0</td>\n      <td>0</td>\n    </tr>\n    <tr>\n      <th>4</th>\n      <td>0</td>\n      <td>0</td>\n      <td>0</td>\n    </tr>\n    <tr>\n      <th>...</th>\n      <td>...</td>\n      <td>...</td>\n      <td>...</td>\n    </tr>\n    <tr>\n      <th>487156</th>\n      <td>0</td>\n      <td>0</td>\n      <td>0</td>\n    </tr>\n    <tr>\n      <th>487157</th>\n      <td>2</td>\n      <td>0</td>\n      <td>0</td>\n    </tr>\n    <tr>\n      <th>487158</th>\n      <td>0</td>\n      <td>0</td>\n      <td>0</td>\n    </tr>\n    <tr>\n      <th>487159</th>\n      <td>2</td>\n      <td>0</td>\n      <td>0</td>\n    </tr>\n    <tr>\n      <th>487160</th>\n      <td>0</td>\n      <td>0</td>\n      <td>0</td>\n    </tr>\n  </tbody>\n</table>\n<p>485683 rows × 3 columns</p>\n</div>"
     },
     "metadata": {},
     "execution_count": 10
    }
   ],
   "source": [
    "df = df[['p11', 'p13a', 'p13b']]\n",
    "df = df.loc[(df.p11 != 4) & (df.p11 != 5)]\n",
    "\n",
    "df"
   ]
  },
  {
   "source": [
    "Pomocí tohoto datasetu vytvoříme kontingenční tabulku, která bude obsahovat binarizovaná data o vlivu alkoholu vůči následkům havárii "
   ],
   "cell_type": "markdown",
   "metadata": {}
  },
  {
   "cell_type": "code",
   "execution_count": 11,
   "metadata": {},
   "outputs": [
    {
     "output_type": "execute_result",
     "data": {
      "text/plain": [
       "p13     False  True \n",
       "p11                 \n",
       "False  457528  10777\n",
       "True    16492    886"
      ],
      "text/html": "<div>\n<style scoped>\n    .dataframe tbody tr th:only-of-type {\n        vertical-align: middle;\n    }\n\n    .dataframe tbody tr th {\n        vertical-align: top;\n    }\n\n    .dataframe thead th {\n        text-align: right;\n    }\n</style>\n<table border=\"1\" class=\"dataframe\">\n  <thead>\n    <tr style=\"text-align: right;\">\n      <th>p13</th>\n      <th>False</th>\n      <th>True</th>\n    </tr>\n    <tr>\n      <th>p11</th>\n      <th></th>\n      <th></th>\n    </tr>\n  </thead>\n  <tbody>\n    <tr>\n      <th>False</th>\n      <td>457528</td>\n      <td>10777</td>\n    </tr>\n    <tr>\n      <th>True</th>\n      <td>16492</td>\n      <td>886</td>\n    </tr>\n  </tbody>\n</table>\n</div>"
     },
     "metadata": {},
     "execution_count": 11
    }
   ],
   "source": [
    "df['p11'] = (df['p11'] >= 7)\n",
    "df['p13'] = (df.p13a + df.p13b > 0)\n",
    "df = pd.crosstab(df.p11, df.p13)\n",
    "\n",
    "df"
   ]
  },
  {
   "source": [
    "Pracujeme s tabulku 2x2 pro kterou vypočítáme $\\chi^2$ test. Funkce pro počítání $\\chi^2$ je implementovaná v scipy.stats.chi2 a hodnotu p-value tímpádem lze pro daný dataset vypočítat jako:"
   ],
   "cell_type": "markdown",
   "metadata": {}
  },
  {
   "cell_type": "code",
   "execution_count": 12,
   "metadata": {},
   "outputs": [
    {
     "output_type": "execute_result",
     "data": {
      "text/plain": [
       "2.0971505700338304e-123"
      ]
     },
     "metadata": {},
     "execution_count": 12
    }
   ],
   "source": [
    "from scipy.stats import chi2_contingency\n",
    "stat, p, dof, expected = chi2_contingency(df)\n",
    "p"
   ]
  },
  {
   "source": [
    "\n",
    "Hodnota $2.09*10^{-123}$ je mnohem menší než $0.05$. Proto zamítneme nulovou hypotézu a můžeme prohlásit, že je zde statisticky významná korelace mezi silným vlivem alkoholu a těžkými zdravotními následkami."
   ],
   "cell_type": "markdown",
   "metadata": {}
  },
  {
   "source": [
    "# Závěr \n",
    "\n",
    "Pomocí tohoto testu jde vidět, že je zde statisticky významná korelace mezi silným vlivem alkoholu a těžkými zdravotními následkami.\n",
    "\n",
    "**Pozor:** [Korelace neimplikuje kauzalitu](https://cs.wikipedia.org/wiki/Korelace_neimplikuje_kauzalitu). Pokud nějaké dvě proměnné spolu korelují, nelze z toho ještě vyvozovat, že jedna je příčinou a druhá kauzálním následkem."
   ],
   "cell_type": "markdown",
   "metadata": {}
  }
 ]
}